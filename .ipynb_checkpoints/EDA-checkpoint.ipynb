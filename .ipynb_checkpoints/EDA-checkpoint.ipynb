{
 "cells": [
  {
   "cell_type": "markdown",
   "id": "008e4c86",
   "metadata": {},
   "source": [
    "This notebook is for performing Exploratory Data Analysis."
   ]
  },
  {
   "cell_type": "code",
   "execution_count": 1,
   "id": "538c231d",
   "metadata": {},
   "outputs": [],
   "source": [
    "#Import libraries\n",
    "import pandas as pd\n",
    "from IPython.display import display"
   ]
  },
  {
   "cell_type": "code",
   "execution_count": null,
   "id": "12bf1399-dbf2-4a29-9a98-2d5c6d396c16",
   "metadata": {},
   "outputs": [],
   "source": [
    "# Data File Variables Declaration\n",
    "appointments = \"appointments.csv\"\n",
    "patients = \"patients.csv\"\n",
    "slots = \"slots.csv\"\n",
    "\n",
    "#Load csv funtion\n",
    "def load_csv(file_path):\n",
    "    try: \n",
    "        df = pd.read_csv(file_path)\n",
    "        print(f\"{file_path} file uploaded successfully\")\n",
    "        return df\n",
    "    except FileNotFoundError:\n",
    "        print(f\"Error: The file {file_path} was not found.\")\n",
    "        return None\n",
    "    except pd.errors.EmptyDataError:\n",
    "        print(f\"Error: The file '{file_path}' is empty.\")\n",
    "        return None\n",
    "    except pd.errors.ParserError:\n",
    "        print(f\"Error: The file '{file_path}' contains corrupt or malformed data.\")\n",
    "        return None\n",
    "    except Exception as e:\n",
    "        print(f\"An unexpected error occurred while loading '{file_path}': {e}\")\n",
    "        return None\n"
   ]
  },
  {
   "cell_type": "code",
   "execution_count": null,
   "id": "12f3b7b9-87ca-48a5-a0e9-18b9a2531b3d",
   "metadata": {},
   "outputs": [],
   "source": [
    "#Load CSV and create a dataframe\n",
    "df_appointments = load_csv(appointments)\n",
    "df_patients = load_csv(patients)\n",
    "df_slots = load_csv(slots)"
   ]
  }
 ],
 "metadata": {
  "kernelspec": {
   "display_name": "Python 3 (ipykernel)",
   "language": "python",
   "name": "python3"
  },
  "language_info": {
   "codemirror_mode": {
    "name": "ipython",
    "version": 3
   },
   "file_extension": ".py",
   "mimetype": "text/x-python",
   "name": "python",
   "nbconvert_exporter": "python",
   "pygments_lexer": "ipython3",
   "version": "3.11.9"
  }
 },
 "nbformat": 4,
 "nbformat_minor": 5
}
