{
 "cells": [
  {
   "cell_type": "markdown",
   "id": "008e4c86",
   "metadata": {},
   "source": [
    "This notebook is for performing Exploratory Data Analysis."
   ]
  },
  {
   "cell_type": "code",
   "execution_count": 1,
   "id": "538c231d",
   "metadata": {},
   "outputs": [],
   "source": [
    "#Import libraries\n",
    "import pandas as pd\n",
    "from IPython.display import display"
   ]
  },
  {
   "cell_type": "code",
   "execution_count": null,
   "id": "12bf1399-dbf2-4a29-9a98-2d5c6d396c16",
   "metadata": {},
   "outputs": [],
   "source": [
    "# Data File Variables Declaration\n",
    "appointments = \"appointments.csv\"\n",
    "patients = \"patients.csv\"\n",
    "slots = \"slots.csv\"\n",
    "\n",
    "#Load csv funtion\n",
    "def load_csv(file_path):\n",
    "    try: \n",
    "        df = pd.read_csv(file_path)\n",
    "        print(f\"{file_path} file uploaded successfully\")\n",
    "        return df\n",
    "    except FileNotFoundError:\n",
    "        print(f\"Error: The file {file_path} was not found.\")\n",
    "        return None\n",
    "    except pd.errors.EmptyDataError:\n",
    "        print(f\"Error: The file '{file_path}' is empty.\")\n",
    "        return None\n",
    "    except pd.errors.ParserError:\n",
    "        print(f\"Error: The file '{file_path}' contains corrupt or malformed data.\")\n",
    "        return None\n",
    "    except Exception as e:\n",
    "        print(f\"An unexpected error occurred while loading '{file_path}': {e}\")\n",
    "        return None\n"
   ]
  },
  {
   "cell_type": "code",
   "execution_count": null,
   "id": "12f3b7b9-87ca-48a5-a0e9-18b9a2531b3d",
   "metadata": {},
   "outputs": [],
   "source": [
    "#Load CSV and create a dataframe\n",
    "df_appointments = load_csv(appointments)\n",
    "df_patients = load_csv(patients)\n",
    "df_slots = load_csv(slots)"
   ]
  },
  {
   "cell_type": "code",
   "execution_count": null,
   "id": "4e6ba4d2-c291-4ede-ab8b-e984aa8add7b",
   "metadata": {},
   "outputs": [],
   "source": [
    "#EDA basic funtion\n",
    "def basic_info(df, name):\n",
    "    if df is None:\n",
    "        print(f\"Cannot parse '{name}' because the DataFrame is empty.\")\n",
    "        return\n",
    "    print(f\"\\n======= {name} =======\")\n",
    "    \n",
    "    print(\"\\n--- Preview of DataFrame ---\")\n",
    "    display(df.head(5))\n",
    "    \n",
    "    print(\"\\n--- Shape: (rows, columns) ---\")\n",
    "    print(df.shape)\n",
    "    \n",
    "    print(\"\\n--- DataFrame Info ---\")\n",
    "    df.info()\n",
    "    \n",
    "    print(\"\\n--- Descriptive Statistics ---\")\n",
    "    display(df.describe(include='all'))\n",
    "    \n",
    "    print(\"\\n--- Missing Values Per Column ---\")\n",
    "    print(df.isnull().sum())\n",
    "    \n",
    "    print(\"\\n--- Duplicate Rows ---\")\n",
    "    print(df.duplicated().sum())\n",
    "    \n",
    "    print(\"\\n--- Data Types Distribution ---\")\n",
    "    print(df.dtypes.value_counts())\n",
    "    \n",
    "    print(\"\\n--- Unique Values Per Column ---\")\n",
    "    print(df.nunique())\n",
    "    "
   ]
  },
  {
   "cell_type": "code",
   "execution_count": null,
   "id": "82a2dc42-0aed-4a13-9821-73087cfafd17",
   "metadata": {},
   "outputs": [],
   "source": [
    "#Analize dataframe\n",
    "basic_info(df_appointments, appointments)"
   ]
  },
  {
   "cell_type": "code",
   "execution_count": null,
   "id": "3eab0dd4-60e9-45a4-b1f6-4e3aea91d537",
   "metadata": {},
   "outputs": [],
   "source": [
    "#Analize dataframe\n",
    "basic_info(df_patients, patients)"
   ]
  },
  {
   "cell_type": "code",
   "execution_count": null,
   "id": "013f4f6d-fcde-49f4-9410-9d920b55535a",
   "metadata": {},
   "outputs": [],
   "source": [
    "#Analize dataframe\n",
    "basic_info(df_slots, slots)"
   ]
  }
 ],
 "metadata": {
  "kernelspec": {
   "display_name": "Python 3 (ipykernel)",
   "language": "python",
   "name": "python3"
  },
  "language_info": {
   "codemirror_mode": {
    "name": "ipython",
    "version": 3
   },
   "file_extension": ".py",
   "mimetype": "text/x-python",
   "name": "python",
   "nbconvert_exporter": "python",
   "pygments_lexer": "ipython3",
   "version": "3.11.9"
  }
 },
 "nbformat": 4,
 "nbformat_minor": 5
}
