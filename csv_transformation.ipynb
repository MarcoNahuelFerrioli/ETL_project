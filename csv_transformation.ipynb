{
 "cells": [
  {
   "cell_type": "markdown",
   "id": "8ccd283b-71bc-4dbc-a629-72810a67004d",
   "metadata": {},
   "source": [
    "Import libraries"
   ]
  },
  {
   "cell_type": "code",
   "execution_count": null,
   "id": "9ad70605-59de-4858-9fc5-a30764ffb235",
   "metadata": {},
   "outputs": [],
   "source": [
    "import pandas as pd"
   ]
  },
  {
   "cell_type": "markdown",
   "id": "361d8960-3569-4296-b4ef-c41e45d5896a",
   "metadata": {},
   "source": [
    "\"Load CSVs to transform\"\n",
    "\n",
    "The load_csv function was created to standardize the process of loading CSV files.\n",
    "In the next step, we use this function to create the DataFrames that will be transformed."
   ]
  },
  {
   "cell_type": "code",
   "execution_count": null,
   "id": "914971ec-6b2f-4c05-b66d-1fa3c3ed07b5",
   "metadata": {},
   "outputs": [],
   "source": [
    "# Define the file paths for the CSVs to be used with the load_csv function\n",
    "appointments = \"appointments.csv\"\n",
    "patients = \"patients.csv\"\n",
    "slots = \"slots.csv\"\n",
    "\n",
    "#Create load_csv funtion\n",
    "def load_csv(file_path):\n",
    "    try: \n",
    "        df = pd.read_csv(file_path)\n",
    "        print(f\"{file_path} file uploaded successfully\")\n",
    "        return df\n",
    "    except FileNotFoundError:\n",
    "        print(f\"Error: The file {file_path} was not found.\")\n",
    "        return None\n",
    "    except pd.errors.EmptyDataError:\n",
    "        print(f\"Error: The file '{file_path}' is empty.\")\n",
    "        return None\n",
    "    except pd.errors.ParserError:\n",
    "        print(f\"Error: The file '{file_path}' contains corrupt or malformed data.\")\n",
    "        return None\n",
    "    except Exception as e:\n",
    "        print(f\"An unexpected error occurred while loading '{file_path}': {e}\")\n",
    "        return None"
   ]
  },
  {
   "cell_type": "code",
   "execution_count": null,
   "id": "e9324572-8ce0-483d-bb9a-98325d468d47",
   "metadata": {},
   "outputs": [],
   "source": [
    "#Create the dataframe that will be transformed.\n",
    "df_appointments = load_csv(appointments)\n",
    "df_patients = load_csv(patients)\n",
    "df_slots = load_csv(slots)"
   ]
  }
 ],
 "metadata": {
  "kernelspec": {
   "display_name": "Python 3 (ipykernel)",
   "language": "python",
   "name": "python3"
  },
  "language_info": {
   "codemirror_mode": {
    "name": "ipython",
    "version": 3
   },
   "file_extension": ".py",
   "mimetype": "text/x-python",
   "name": "python",
   "nbconvert_exporter": "python",
   "pygments_lexer": "ipython3",
   "version": "3.11.9"
  }
 },
 "nbformat": 4,
 "nbformat_minor": 5
}
