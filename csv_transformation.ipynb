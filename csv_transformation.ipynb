{
 "cells": [
  {
   "cell_type": "markdown",
   "id": "8ccd283b-71bc-4dbc-a629-72810a67004d",
   "metadata": {},
   "source": [
    "Import libraries"
   ]
  },
  {
   "cell_type": "code",
   "execution_count": null,
   "id": "9ad70605-59de-4858-9fc5-a30764ffb235",
   "metadata": {},
   "outputs": [],
   "source": [
    "import pandas as pd"
   ]
  },
  {
   "cell_type": "markdown",
   "id": "361d8960-3569-4296-b4ef-c41e45d5896a",
   "metadata": {},
   "source": [
    "\"Load CSVs to transform\"\n",
    "\n",
    "The load_csv function was created to standardize the process of loading CSV files.\n",
    "In the next step, we use this function to create the DataFrames that will be transformed."
   ]
  },
  {
   "cell_type": "code",
   "execution_count": null,
   "id": "914971ec-6b2f-4c05-b66d-1fa3c3ed07b5",
   "metadata": {},
   "outputs": [],
   "source": [
    "# Define the file paths for the CSVs to be used with the load_csv function\n",
    "appointments = \"appointments.csv\"\n",
    "patients = \"patients.csv\"\n",
    "slots = \"slots.csv\"\n",
    "\n",
    "#Create load_csv funtion\n",
    "def load_csv(file_path):\n",
    "    try: \n",
    "        df = pd.read_csv(file_path)\n",
    "        print(f\"{file_path} file uploaded successfully\")\n",
    "        return df\n",
    "    except FileNotFoundError:\n",
    "        print(f\"Error: The file {file_path} was not found.\")\n",
    "        return None\n",
    "    except pd.errors.EmptyDataError:\n",
    "        print(f\"Error: The file '{file_path}' is empty.\")\n",
    "        return None\n",
    "    except pd.errors.ParserError:\n",
    "        print(f\"Error: The file '{file_path}' contains corrupt or malformed data.\")\n",
    "        return None\n",
    "    except Exception as e:\n",
    "        print(f\"An unexpected error occurred while loading '{file_path}': {e}\")\n",
    "        return None"
   ]
  },
  {
   "cell_type": "code",
   "execution_count": null,
   "id": "e9324572-8ce0-483d-bb9a-98325d468d47",
   "metadata": {},
   "outputs": [],
   "source": [
    "#Create the dataframe that will be transformed.\n",
    "df_appointments = load_csv(appointments)\n",
    "df_patients = load_csv(patients)\n",
    "df_slots = load_csv(slots)"
   ]
  },
  {
   "cell_type": "markdown",
   "id": "37a21bd6-edfa-43d9-b7ad-dd499558b2fc",
   "metadata": {},
   "source": [
    "Appointments CSV Transformation\n",
    "\n",
    "DataFrame preview"
   ]
  },
  {
   "cell_type": "code",
   "execution_count": null,
   "id": "bbb1ad91-7f04-4c63-8c22-f90f873373b5",
   "metadata": {},
   "outputs": [],
   "source": [
    "display(df_appointments.head(5))\n"
   ]
  },
  {
   "cell_type": "markdown",
   "id": "f064188a-afe3-4bc0-bc6c-ae235c104302",
   "metadata": {},
   "source": [
    "Appointments CSV Transformation\n",
    "\n",
    "Following the Exploratory Data Analysis, this CSV will be transformed for use in a transactional database management system with MySQL, so the file needs to be normalized.\n",
    "The Appointments CSV contains NaN values in the columns check_in_time, appointment_duration, start_time, end_time, and waiting_time. However, in this case, we do not remove these NaN values because these fields will be completed later in the DBMS.\n",
    "\n",
    "Transformation:\n",
    "\n",
    "1. We remove the columns appointment_date, appointment_time, sex, age, and age_group because this information is already present in the patients and slots tables.\n",
    "\n",
    "2. Transform the 'status' column to follow Third Normal Form (3NF) by referencing a status ID from a separate status lookup table. Then, rename the column to 'status_id'. (At the end of the transformation, we will create the status CSV that includes the 'status_id' and 'status_description'.)\n",
    "\n",
    "3. Change data types to match MySQL format"
   ]
  },
  {
   "cell_type": "markdown",
   "id": "ac80cec3-2371-4693-850e-624472450cc1",
   "metadata": {},
   "source": [
    "Transformation 1"
   ]
  },
  {
   "cell_type": "code",
   "execution_count": null,
   "id": "e2274530-3aaf-47a0-8af1-f4edaf20d321",
   "metadata": {},
   "outputs": [],
   "source": [
    "#Remove columns appointment_date, appointment_time, sex, age, and age_group\n",
    "df_appointments = df_appointments.drop([\"appointment_date\", \"appointment_time\", \"sex\", \"age\", \"age_group\"], axis=1)\n",
    "\n",
    "display(df_appointments.head(5))\n"
   ]
  },
  {
   "cell_type": "markdown",
   "id": "793a3de1-70a6-49ba-b920-ae0f5ae359d3",
   "metadata": {},
   "source": [
    "Transformation 2"
   ]
  },
  {
   "cell_type": "code",
   "execution_count": null,
   "id": "0c7ab362-68af-4fa3-9752-a2267c1ddaa1",
   "metadata": {},
   "outputs": [],
   "source": [
    "#Change the values in the status column to numeric codes (did not attend = 1, attended = 2, and cancelled = 3).\n",
    "\n",
    "df_appointments['status'] = df_appointments['status'].replace({'did not attend' : 1, 'attended' : 2, 'cancelled' : 3, 'scheduled' : 4, 'unknown' : 5})\n",
    "\n",
    "#Rename the column status to status_id.\n",
    "df_appointments.rename(columns={'status': 'status_id'}, inplace=True)\n",
    "\n",
    "display(df_appointments.head(5))"
   ]
  },
  {
   "cell_type": "markdown",
   "id": "915cf10d-fcd6-43a6-9ebf-650035e58c41",
   "metadata": {},
   "source": [
    "Transformation 3"
   ]
  },
  {
   "cell_type": "code",
   "execution_count": null,
   "id": "cf7cb5cb-03f5-4625-a115-1ec02a49e3f4",
   "metadata": {},
   "outputs": [],
   "source": [
    "#Change data type of column 'scheduling_date' from object to datetime\n",
    "df_appointments['scheduling_date'] = pd.to_datetime(df_appointments['scheduling_date'])\n",
    "\n",
    "#Change data type of column 'status' from objetc to int64\n",
    "df_appointments['status_id'] = df_appointments['status_id'].astype(int)\n",
    "\n",
    "#Change data type of columns 'check_in_time', 'start_time' and 'end_time' from object to datetime\n",
    "# When we change the datatype to time, the rows with valid values change to time,\n",
    "# but the rows with NaN values change to NaT with object datatype,\n",
    "# so the column keeps having object datatype because it contains two different types.\n",
    "df_appointments['check_in_time'] = pd.to_datetime(df_appointments['check_in_time'], format='%H:%M:%S', errors='coerce').dt.time\n",
    "df_appointments['start_time'] = pd.to_datetime(df_appointments['start_time'], format='%H:%M:%S', errors='coerce').dt.time\n",
    "df_appointments['end_time'] = pd.to_datetime(df_appointments['end_time'], format='%H:%M:%S', errors='coerce').dt.time\n",
    "\n",
    "df_appointments.dtypes"
   ]
  },
  {
   "cell_type": "markdown",
   "id": "93f7ef01-b062-41ee-8113-7abd3f5efc7a",
   "metadata": {},
   "source": [
    "Patients CSV tranfomation\n",
    "\n",
    "DataFrame preview"
   ]
  },
  {
   "cell_type": "code",
   "execution_count": null,
   "id": "a021f54b-932d-4615-b65d-1c39ad2c9403",
   "metadata": {},
   "outputs": [],
   "source": [
    "display(df_patients.head(5))"
   ]
  },
  {
   "cell_type": "markdown",
   "id": "81436d65-8e06-4bca-b134-ba6b23e92522",
   "metadata": {},
   "source": [
    "On this dataframe, we only need to change the data type of the 'dob' column to match the MySQL data type."
   ]
  },
  {
   "cell_type": "code",
   "execution_count": null,
   "id": "69bd994c-b147-4889-b0b9-c18eda5b3a53",
   "metadata": {},
   "outputs": [],
   "source": [
    "#Change data type of column 'dob' from object to datetime\n",
    "df_patients['dob'] = pd.to_datetime(df_patients['dob'])\n",
    "\n",
    "df_patients.dtypes"
   ]
  },
  {
   "cell_type": "markdown",
   "id": "65dd14f5-aaaa-467a-a7bf-326246abcd32",
   "metadata": {},
   "source": [
    "Slots CSV transformation\n",
    "\n",
    "DataFrame preview"
   ]
  },
  {
   "cell_type": "code",
   "execution_count": null,
   "id": "371f2a90-500b-4776-8738-6bad10356fe3",
   "metadata": {},
   "outputs": [],
   "source": [
    "display(df_slots.head(5))"
   ]
  },
  {
   "cell_type": "markdown",
   "id": "a34a985b-0e86-4b92-a2ec-21356c63094d",
   "metadata": {},
   "source": [
    "On this dataframe, we need to change the data type of column 'appointment_date' and 'appointment_time' from object to datetime to match the MySQL data type"
   ]
  },
  {
   "cell_type": "code",
   "execution_count": null,
   "id": "22adf2d9-8ffd-465f-85df-13697a2d3b84",
   "metadata": {},
   "outputs": [],
   "source": [
    "#Change data type of column 'appointment_date' from objet to datetime\n",
    "df_slots['appointment_date'] = pd.to_datetime(df_slots['appointment_date'])\n",
    "\n",
    "#Change data type of column 'appointment_time' from object to datetime\n",
    "df_slots['appointment_time'] = pd.to_datetime(df_slots['appointment_time'], format='%H:%M:$S', errors='coerce').dt.time\n",
    "\n",
    "df_slots.dtypes\n"
   ]
  }
 ],
 "metadata": {
  "kernelspec": {
   "display_name": "Python 3 (ipykernel)",
   "language": "python",
   "name": "python3"
  },
  "language_info": {
   "codemirror_mode": {
    "name": "ipython",
    "version": 3
   },
   "file_extension": ".py",
   "mimetype": "text/x-python",
   "name": "python",
   "nbconvert_exporter": "python",
   "pygments_lexer": "ipython3",
   "version": "3.11.9"
  }
 },
 "nbformat": 4,
 "nbformat_minor": 5
}
